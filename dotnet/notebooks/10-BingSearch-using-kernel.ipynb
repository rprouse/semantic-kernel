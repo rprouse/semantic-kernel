{
 "cells": [
  {
   "attachments": {},
   "cell_type": "markdown",
   "metadata": {},
   "source": [
    "# BingSearch using Kernel \n",
    "\n",
    "This notebook explains how to integrate Bing Search with the Semantic Kernel  to get the latest information from the internet.\n",
    "\n",
    "To use Bing Search you simply need a Bing Search API key. You can get the API key by creating a [Bing Search resource](https://learn.microsoft.com/en-us/bing/search-apis/bing-web-search/create-bing-search-service-resource) in Azure. \n",
    "\n",
    "To learn more read the following [documentation](https://learn.microsoft.com/en-us/bing/search-apis/bing-web-search/overview).\n"
   ]
  },
  {
   "attachments": {},
   "cell_type": "markdown",
   "metadata": {},
   "source": [
    "Prepare a Semantic Kernel instance first, loading also the AI backend settings defined in the [Setup notebook](0-AI-settings.ipynb):"
   ]
  },
  {
   "cell_type": "code",
   "execution_count": 1,
   "metadata": {
    "dotnet_interactive": {
     "language": "csharp"
    },
    "polyglot_notebook": {
     "kernelName": "csharp"
    }
   },
   "outputs": [
    {
     "data": {
      "text/html": [
       "<div><div></div><div></div><div><strong>Installed Packages</strong><ul><li><span>Microsoft.SemanticKernel, 1.6.3</span></li><li><span>Microsoft.SemanticKernel.Plugins.Core, 1.6.3-alpha</span></li><li><span>Microsoft.SemanticKernel.Plugins.Web, 1.6.3-alpha</span></li></ul></div></div>"
      ]
     },
     "metadata": {},
     "output_type": "display_data"
    }
   ],
   "source": [
    "#r \"nuget: Microsoft.SemanticKernel, 1.6.3\"\n",
    "#r \"nuget: Microsoft.SemanticKernel.Plugins.Web, 1.6.3-alpha\"\n",
    "#r \"nuget: Microsoft.SemanticKernel.Plugins.Core, 1.6.3-alpha\"\n",
    "\n",
    "#!import config/Settings.cs\n",
    "#!import config/Utils.cs\n",
    "\n",
    "using Microsoft.SemanticKernel;\n",
    "using Microsoft.SemanticKernel.Plugins.Core;\n",
    "using Microsoft.SemanticKernel.TemplateEngine;\n",
    "using InteractiveKernel = Microsoft.DotNet.Interactive.Kernel;\n",
    "using Kernel = Microsoft.SemanticKernel.Kernel;\n",
    "\n",
    "var builder = Kernel.CreateBuilder();\n",
    "\n",
    "// Configure AI backend used by the kernel\n",
    "var (useAzureOpenAI, model, azureEndpoint, apiKey, orgId) = Settings.LoadFromFile();\n",
    "\n",
    "if (useAzureOpenAI)\n",
    "    builder.AddAzureOpenAIChatCompletion(model, azureEndpoint, apiKey);\n",
    "else\n",
    "    builder.AddOpenAIChatCompletion(model, apiKey, orgId);\n",
    "\n",
    "var kernel = builder.Build();"
   ]
  },
  {
   "attachments": {},
   "cell_type": "markdown",
   "metadata": {},
   "source": [
    "Add the following namespaces to use the Bing Search connector."
   ]
  },
  {
   "cell_type": "code",
   "execution_count": 2,
   "metadata": {
    "dotnet_interactive": {
     "language": "csharp"
    },
    "polyglot_notebook": {
     "kernelName": "csharp"
    }
   },
   "outputs": [],
   "source": [
    "using Microsoft.SemanticKernel.Plugins.Web;\n",
    "using Microsoft.SemanticKernel.Plugins.Web.Bing;"
   ]
  },
  {
   "attachments": {},
   "cell_type": "markdown",
   "metadata": {},
   "source": [
    "Enter your Bing Search Key in BING_KEY using `InteractiveKernel` method as introduced in [`.NET Interactive`](https://github.com/dotnet/interactive/blob/main/docs/kernels-overview.md)"
   ]
  },
  {
   "cell_type": "code",
   "execution_count": 3,
   "metadata": {
    "dotnet_interactive": {
     "language": "csharp"
    },
    "polyglot_notebook": {
     "kernelName": "csharp"
    }
   },
   "outputs": [],
   "source": [
    "using InteractiveKernel = Microsoft.DotNet.Interactive.Kernel;\n",
    "\n",
    "string BING_KEY = (await InteractiveKernel.GetPasswordAsync(\"Please enter your Bing Search Key\")).GetClearTextPassword();"
   ]
  },
  {
   "attachments": {},
   "cell_type": "markdown",
   "metadata": {},
   "source": [
    "Below are some examples on how [`WebSearchEnginePlugin`](../src/Plugins/Plugins.Web/WebSearchEnginePlugin.cs) can be used in SK. "
   ]
  },
  {
   "cell_type": "code",
   "execution_count": 5,
   "metadata": {
    "dotnet_interactive": {
     "language": "csharp"
    },
    "polyglot_notebook": {
     "kernelName": "csharp"
    }
   },
   "outputs": [],
   "source": [
    "private static async Task Example1Async(Microsoft.SemanticKernel.Kernel kernel)\n",
    "{\n",
    "        Console.WriteLine(\"Example 1\");\n",
    "\n",
    "        // Run\n",
    "        var question = \"What is quantum tunnelling\";\n",
    "        var function = kernel.Plugins[\"bing\"][\"search\"];\n",
    "        var bingResult = await kernel.InvokeAsync(function, new() { [\"query\"] = question });\n",
    "\n",
    "        Console.WriteLine(question);\n",
    "        Console.WriteLine(\"----\");\n",
    "        Console.WriteLine(bingResult);\n",
    "        Console.WriteLine();\n",
    "\n",
    "        /* OUTPUT:\n",
    "\n",
    "            What is quantum tunnelling\n",
    "            ----\n",
    "            In physics, quantum tunnelling, barrier penetration, or simply tunnelling is a quantum mechanical\n",
    "            phenomenon in which an object such as an electron or atom passes through a potential energy\n",
    "            barrier that, according to classical mechanics, the object does not have sufficient energy to\n",
    "            enter or surmount.\n",
    "\n",
    "       */\n",
    "}"
   ]
  },
  {
   "cell_type": "code",
   "execution_count": 6,
   "metadata": {
    "dotnet_interactive": {
     "language": "csharp"
    },
    "polyglot_notebook": {
     "kernelName": "csharp"
    }
   },
   "outputs": [],
   "source": [
    "private static async Task Example2Async(Microsoft.SemanticKernel.Kernel kernel)\n",
    "{\n",
    "    Console.WriteLine(\"Example 2\");\n",
    "\n",
    "    //The following function only works in interactive notebooks\n",
    "    string question = await InteractiveKernel.GetInputAsync(\"Please ask your question\");\n",
    "\n",
    "    var function = kernel.Plugins[\"bing\"][\"search\"];\n",
    "    var bingResult = await kernel.InvokeAsync(function, new() { [\"query\"] = question });\n",
    "\n",
    "    Console.WriteLine(bingResult);\n",
    "}"
   ]
  },
  {
   "cell_type": "code",
   "execution_count": 7,
   "metadata": {
    "dotnet_interactive": {
     "language": "csharp"
    },
    "polyglot_notebook": {
     "kernelName": "csharp"
    }
   },
   "outputs": [
    {
     "name": "stdout",
     "output_type": "stream",
     "text": [
      "Example 1\n",
      "What is quantum tunnelling\n",
      "----\n",
      "[\"Quantum tunnelling increases the probability of penetrating this barrier. Though this probability is still low, the extremely large number of nuclei in the core of a star is sufficient to sustain a steady fusion reaction. Radioactive decay. Radioactive decay is the process of emission of particles and energy from the unstable nucleus of an atom ...\",\"Quantum tunneling is a phenomenon where an electron is able to phase through a barrier and move to the other side. It is a quantum phenomenon that occurs when particles move through a barrier that, according to the theories of classical physics, should be impossible to pass through. When an object encounters a barrier, it is an intuitive ...\",\"Quantum tunneling is a phenomenon in which a particle can cross a potential barrier that is higher than its energy. This chapter explains the principles and applications of quantum tunneling, using the Schrödinger equation and the wave function. Learn more about this fascinating topic in physics with LibreTexts.\",\"Explainer: What is quantum tunnelling? At the smallest scale, the world is weird. When things get down to the size of an atom, the mechanics that rule our macroscopic world no longer apply. According ...\",\"Quantum tunneling, while it might sound strange or counterintuitive, is an essential concept in quantum mechanics and has proven to be an integral part of modern technology. From transistors and diodes to the potential future of wireless communication, this emerging technology holds great promise for propelling technological advancements. ...\",\"Quantum tunnelling is a captivating and mind-bending phenomenon that arises in the realm of quantum mechanics, defying the expectations of classical physics. At its core, quantum tunnelling unveils the extraordinary ability of particles, such as electrons, to traverse energy barriers that classical physics deems impassable.\",\"Learn what quantum tunneling is and how it occurs in one dimension and in three dimensions. Explore the applications of quantum tunneling in radioactive decay, semiconductors, superconductors, and scanning tunneling microscopy.\",\"Quantum tunneling, also known as quantum mechanical tunneling, is a unique phenomenon that occurs in the microscopic world of quantum mechanics. It is the process by which a particle can pass through a potential barrier that should be impossible according to classical physics. This means that a particle can move through a barrier without having ...\",\"Quantum tunneling is a phenomenon in which particles can pass through barriers that seem impossible to overcome according to classical physics. But how fast can they do it? A new experiment suggests that they can break the speed of light limit, challenging our understanding of quantum mechanics and relativity. Find out more in this article from Quanta Magazine, a leading source of science news ...\",\"Quantum tunneling is a phenomenon in which particles penetrate a potential energy barrier with a height greater than the total energy of the particles. The phenomenon is interesting and important because it violates the principles of classical mechanics. Quantum tunneling is important in models of the Sun and has a wide range of applications, such as the scanning tunneling microscope and the ...\"]\n",
      "\n",
      "Example 2\n",
      "[\"Valsoft Corporation Websites Websites Company Website http://www.alteridem.net Blog http://www.prouse.org My Resume http://resume.prouse.org About As the VP of Technology at Valsoft...\",\"713 Followers Tweets Replies Media Rob Prouse (he/him) Retweeted Terje Sandstrøm @OsirisTerje · Mar 7 Released Visual Studio NUnit Test Generator extension for VS 2022, for those who like to stay just in Visual Studio. It has been long overdue, but @rprouse put in some extra effort and did the x64 transition :-) marketplace.visualstudio.com\",\"Rob Prouse is a candidate running for the .NET Foundation Board. Follow him on Twitter @rprouse AboutPressCopyrightContact usCreatorsAdvertiseDevelopersTermsPrivacyPolicy & SafetyHow YouTube...\",\"A suspect identified as Toronto-resident Robert Prouse was arrested on Friday and charged with an indecent act on a female, two counts of sexual assault and sexual interference. He is scheduled to ...\",\"Rob Prouse rprouse Working from home. Follow. Former member of the.NET Foundation Board of Directors, Microsoft MVP, member of the @nunit test framework team and contributes to numerous open source projects. 157 followers · 35 following Valsoft/Aspire. Hamilton, ON Canada;\",\"Rob Prouse. Proven software engineer and architect with a passion for building high performance agile teams and empowering them to deliver customer value through software and technology. Recognized by Microsoft as a Most Valuable Professional (MVP) for thought leadership in C#, .NET and DevOps. Head of the opensource NUnit Test Framework ...\",\"Rob Prouse is a Vice President, Technology at Valsoft based in Montreal, Quebec. Previously, Rob was a Chief Technology Officer at Reliq Health an d also held positions at Bentley, Semaview, Livedoor, Globalserve Communications.\",\"Permission is hereby granted, free of charge, to any person obtaining a copy of this software and associated documentation files (the \\\"Software\\\"), to deal in the Software without restriction, including without limitation the rights to use, copy, modify, merge, publish, distribute, sublicense, and/or sell copies of the Software, and to permit ...\",\"Rob Prouse. Proven software engineer and architect with a passion for building high performance agile teams and empowering them to deliver customer value through software and technology.\",\"Rob Prouse’s Post Rob Prouse VP of Technology @ Valsoft Corporation | Software Development, Agile Methodologies 1y Report this post ...\"]\n"
     ]
    }
   ],
   "source": [
    "#pragma warning disable SKEXP0050\n",
    "\n",
    "// Load Bing plugin\n",
    "var bingConnector = new BingConnector(BING_KEY);\n",
    "\n",
    "kernel.ImportPluginFromObject(new WebSearchEnginePlugin(bingConnector), \"bing\");\n",
    "\n",
    "await Example1Async(kernel);\n",
    "await Example2Async(kernel);"
   ]
  }
 ],
 "metadata": {
  "kernelspec": {
   "display_name": ".NET (C#)",
   "language": "C#",
   "name": ".net-csharp"
  },
  "language_info": {
   "name": "polyglot-notebook"
  },
  "orig_nbformat": 4,
  "polyglot_notebook": {
   "kernelInfo": {
    "defaultKernelName": "csharp",
    "items": [
     {
      "aliases": [],
      "name": "csharp"
     }
    ]
   }
  }
 },
 "nbformat": 4,
 "nbformat_minor": 2
}
