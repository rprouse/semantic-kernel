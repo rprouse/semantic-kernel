{
 "cells": [
  {
   "attachments": {},
   "cell_type": "markdown",
   "metadata": {},
   "source": [
    "# Creating a basic chat experience with kernel arguments\n",
    "\n",
    "In this example, we show how you can build a simple chat bot by sending and updating arguments with your requests. \n",
    "\n",
    "We introduce the Kernel Arguments object which in this demo functions similarly as a key-value store that you can use when running the kernel.  \n",
    "\n",
    "In this chat scenario, as the user talks back and forth with the bot, the arguments get populated with the history of the conversation. During each new run of the kernel, the arguments will be provided to the AI with content. "
   ]
  },
  {
   "cell_type": "code",
   "execution_count": 1,
   "metadata": {
    "dotnet_interactive": {
     "language": "csharp"
    },
    "polyglot_notebook": {
     "kernelName": "csharp"
    },
    "vscode": {
     "languageId": "polyglot-notebook"
    }
   },
   "outputs": [
    {
     "data": {
      "text/html": [
       "<div><div></div><div></div><div><strong>Installed Packages</strong><ul><li><span>Microsoft.SemanticKernel, 1.6.3</span></li></ul></div></div>"
      ]
     },
     "metadata": {},
     "output_type": "display_data"
    }
   ],
   "source": [
    "#r \"nuget: Microsoft.SemanticKernel, 1.6.3\"\n",
    "#!import config/Settings.cs\n",
    "\n",
    "using Microsoft.SemanticKernel;\n",
    "using Microsoft.SemanticKernel.Connectors.OpenAI;\n",
    "using Kernel = Microsoft.SemanticKernel.Kernel;\n",
    "\n",
    "var builder = Kernel.CreateBuilder();\n",
    "\n",
    "// Configure AI service credentials used by the kernel\n",
    "var (useAzureOpenAI, model, azureEndpoint, apiKey, orgId) = Settings.LoadFromFile();\n",
    "\n",
    "if (useAzureOpenAI)\n",
    "    builder.AddAzureOpenAIChatCompletion(model, azureEndpoint, apiKey);\n",
    "else\n",
    "    builder.AddOpenAIChatCompletion(model, apiKey, orgId);\n",
    "\n",
    "var kernel = builder.Build();"
   ]
  },
  {
   "attachments": {},
   "cell_type": "markdown",
   "metadata": {},
   "source": [
    "Let's define a prompt outlining a dialogue chat bot."
   ]
  },
  {
   "cell_type": "code",
   "execution_count": 2,
   "metadata": {
    "dotnet_interactive": {
     "language": "csharp"
    },
    "polyglot_notebook": {
     "kernelName": "csharp"
    },
    "vscode": {
     "languageId": "polyglot-notebook"
    }
   },
   "outputs": [],
   "source": [
    "const string skPrompt = @\"\n",
    "ChatBot can have a conversation with you about any topic.\n",
    "It can give explicit instructions or say 'I don't know' if it does not have an answer.\n",
    "\n",
    "{{$history}}\n",
    "User: {{$userInput}}\n",
    "ChatBot:\";\n",
    "\n",
    "var executionSettings = new OpenAIPromptExecutionSettings\n",
    "{\n",
    "    MaxTokens = 2000,\n",
    "    Temperature = 0.7,\n",
    "    TopP = 0.5\n",
    "};"
   ]
  },
  {
   "attachments": {},
   "cell_type": "markdown",
   "metadata": {},
   "source": [
    "Register your semantic function"
   ]
  },
  {
   "cell_type": "code",
   "execution_count": 3,
   "metadata": {
    "dotnet_interactive": {
     "language": "csharp"
    },
    "polyglot_notebook": {
     "kernelName": "csharp"
    },
    "vscode": {
     "languageId": "polyglot-notebook"
    }
   },
   "outputs": [],
   "source": [
    "var chatFunction = kernel.CreateFunctionFromPrompt(skPrompt, executionSettings);"
   ]
  },
  {
   "attachments": {},
   "cell_type": "markdown",
   "metadata": {},
   "source": [
    "Initialize your arguments"
   ]
  },
  {
   "cell_type": "code",
   "execution_count": 4,
   "metadata": {
    "dotnet_interactive": {
     "language": "csharp"
    },
    "polyglot_notebook": {
     "kernelName": "csharp"
    },
    "vscode": {
     "languageId": "polyglot-notebook"
    }
   },
   "outputs": [],
   "source": [
    "var history = \"\";\n",
    "var arguments = new KernelArguments()\n",
    "{\n",
    "    [\"history\"] = history\n",
    "};"
   ]
  },
  {
   "attachments": {},
   "cell_type": "markdown",
   "metadata": {},
   "source": [
    "Chat with the Bot"
   ]
  },
  {
   "cell_type": "code",
   "execution_count": 5,
   "metadata": {
    "dotnet_interactive": {
     "language": "csharp"
    },
    "polyglot_notebook": {
     "kernelName": "csharp"
    },
    "vscode": {
     "languageId": "polyglot-notebook"
    }
   },
   "outputs": [],
   "source": [
    "var userInput = \"Hi, I'm looking for a sci-fi book suggestions\";\n",
    "arguments[\"userInput\"] = userInput;\n",
    "\n",
    "var bot_answer = await chatFunction.InvokeAsync(kernel, arguments);"
   ]
  },
  {
   "attachments": {},
   "cell_type": "markdown",
   "metadata": {},
   "source": [
    "Update the history with the output and set this as the new input value for the next request"
   ]
  },
  {
   "cell_type": "code",
   "execution_count": 6,
   "metadata": {
    "dotnet_interactive": {
     "language": "csharp"
    },
    "polyglot_notebook": {
     "kernelName": "csharp"
    },
    "vscode": {
     "languageId": "polyglot-notebook"
    }
   },
   "outputs": [
    {
     "name": "stdout",
     "output_type": "stream",
     "text": [
      "\n",
      "User: Hi, I'm looking for a sci-fi book suggestions\n",
      "AI: Hello! I'd be happy to help you with that. What kind of science fiction books are you interested in? Are you looking for something more along the lines of space opera, dystopian futures, time travel, or something else? Let me know so I can give you some tailored recommendations.\n",
      "\r\n"
     ]
    }
   ],
   "source": [
    "history += $\"\\nUser: {userInput}\\nAI: {bot_answer}\\n\";\n",
    "arguments[\"history\"] = history;\n",
    "\n",
    "Console.WriteLine(history);"
   ]
  },
  {
   "attachments": {},
   "cell_type": "markdown",
   "metadata": {},
   "source": [
    "Keep Chatting!"
   ]
  },
  {
   "cell_type": "code",
   "execution_count": 7,
   "metadata": {
    "dotnet_interactive": {
     "language": "csharp"
    },
    "polyglot_notebook": {
     "kernelName": "csharp"
    },
    "vscode": {
     "languageId": "polyglot-notebook"
    }
   },
   "outputs": [],
   "source": [
    "Func<string, Task> Chat = async (string input) => {\n",
    "    // Save new message in the arguments\n",
    "    arguments[\"userInput\"] = input;\n",
    "\n",
    "    // Process the user message and get an answer\n",
    "    var answer = await chatFunction.InvokeAsync(kernel, arguments);\n",
    "\n",
    "    // Append the new interaction to the chat history\n",
    "    var result = $\"\\nUser: {input}\\nAI: {answer}\\n\";\n",
    "    history += result;\n",
    "\n",
    "    arguments[\"history\"] = history;\n",
    "\n",
    "    // Show the response\n",
    "    Console.WriteLine(result);\n",
    "};"
   ]
  },
  {
   "cell_type": "code",
   "execution_count": 8,
   "metadata": {
    "dotnet_interactive": {
     "language": "csharp"
    },
    "polyglot_notebook": {
     "kernelName": "csharp"
    },
    "vscode": {
     "languageId": "polyglot-notebook"
    }
   },
   "outputs": [
    {
     "name": "stdout",
     "output_type": "stream",
     "text": [
      "\n",
      "User: I would like books about dystopian futures set in space.\n",
      "AI: Great choice! Here are some science fiction books about dystopian futures set in space that you might enjoy:\n",
      "\n",
      "1. \"The Expanse\" series by James S.A. Corey - This series follows a future where humanity has colonized the solar system, leading to political tensions and conflicts that threaten to erupt into all-out war.\n",
      "\n",
      "2. \"Red Rising\" by Pierce Brown - Set in a future where society is divided into color-coded castes, this series follows a young man's journey to overthrow the oppressive ruling class.\n",
      "\n",
      "3. \"The Stars My Destination\" by Alfred Bester - This classic novel follows the story of a man seeking revenge in a future where teleportation technology has transformed society.\n",
      "\n",
      "I hope you find these recommendations helpful! Let me know if you'd like more suggestions or if you have any specific preferences.\n",
      "\r\n"
     ]
    }
   ],
   "source": [
    "await Chat(\"I would like books about dystopian futures set in space.\");"
   ]
  },
  {
   "cell_type": "code",
   "execution_count": 9,
   "metadata": {
    "dotnet_interactive": {
     "language": "csharp"
    },
    "polyglot_notebook": {
     "kernelName": "csharp"
    },
    "vscode": {
     "languageId": "polyglot-notebook"
    }
   },
   "outputs": [
    {
     "name": "stdout",
     "output_type": "stream",
     "text": [
      "\n",
      "User: that sounds interesting, can you recommend other similar books?\n",
      "AI: Sure! Here are some more science fiction books about dystopian futures set in space that you might enjoy:\n",
      "\n",
      "1. \"Altered Carbon\" by Richard K. Morgan - In a future where consciousness can be transferred between bodies, a former soldier is hired to solve a murder mystery that leads him into a world of corruption and intrigue.\n",
      "\n",
      "2. \"The Hunger Games\" by Suzanne Collins - Set in a dystopian future where children are forced to fight to the death in a televised competition, this series follows a young girl's struggle for survival and rebellion against the oppressive government.\n",
      "\n",
      "3. \"The Long Way to a Small, Angry Planet\" by Becky Chambers - This novel follows the crew of a spaceship as they travel through space, encountering different alien species and facing challenges that test their bonds and beliefs.\n",
      "\n",
      "I hope you find these additional recommendations enjoyable! Let me know if you'd like more suggestions or if you have any specific preferences.\n",
      "\r\n"
     ]
    }
   ],
   "source": [
    "await Chat(\"that sounds interesting, can you recommend other similar books?\");"
   ]
  },
  {
   "cell_type": "code",
   "execution_count": 10,
   "metadata": {
    "dotnet_interactive": {
     "language": "csharp"
    },
    "polyglot_notebook": {
     "kernelName": "csharp"
    },
    "vscode": {
     "languageId": "polyglot-notebook"
    }
   },
   "outputs": [
    {
     "name": "stdout",
     "output_type": "stream",
     "text": [
      "\n",
      "User: Which book from the ones you listed do you think most people find interesting?\n",
      "AI: It's difficult to say which book most people find interesting, as individual preferences can vary greatly. However, \"The Hunger Games\" by Suzanne Collins is a widely popular series that has captured the attention of many readers with its gripping storyline and themes of survival and rebellion. It has also been adapted into successful movies, further increasing its popularity.\n",
      "\r\n"
     ]
    }
   ],
   "source": [
    "await Chat(\"Which book from the ones you listed do you think most people find interesting?\");"
   ]
  },
  {
   "cell_type": "code",
   "execution_count": 11,
   "metadata": {
    "dotnet_interactive": {
     "language": "csharp"
    },
    "polyglot_notebook": {
     "kernelName": "csharp"
    },
    "vscode": {
     "languageId": "polyglot-notebook"
    }
   },
   "outputs": [
    {
     "name": "stdout",
     "output_type": "stream",
     "text": [
      "\n",
      "User: could you list some more books I could read about the topic(s) you mentioned?\n",
      "AI: I'm glad you're interested in exploring more books on the topic! Here are some additional science fiction books about dystopian futures set in space that you might find intriguing:\n",
      "\n",
      "1. \"Ender's Game\" by Orson Scott Card - This novel follows a young boy named Ender Wiggin who is recruited into a military training program to prepare for an alien invasion.\n",
      "\n",
      "2. \"Dune\" by Frank Herbert - Set in a distant future where noble houses vie for control of a desert planet called Arrakis, this epic novel explores themes of politics, religion, and ecology.\n",
      "\n",
      "3. \"Hyperion\" by Dan Simmons - In this novel, a group of pilgrims journey to the distant planet of Hyperion, each with their own story to tell and secrets to uncover.\n",
      "\n",
      "4. \"The Left Hand of Darkness\" by Ursula K. Le Guin - This novel follows a human envoy's mission to a planet where the inhabitants can change gender at will, exploring themes of gender and politics.\n",
      "\n",
      "5. \"Snow Crash\" by Neal Stephenson - Set in a future America where the government has collapsed, this novel follows a hacker and a courier as they uncover a conspiracy that threatens the world.\n",
      "\n",
      "I hope you find these additional recommendations enjoyable! Let me know if you'd like more suggestions or if you have any specific preferences.\n",
      "\r\n"
     ]
    }
   ],
   "source": [
    "await Chat(\"could you list some more books I could read about the topic(s) you mentioned?\");"
   ]
  },
  {
   "attachments": {},
   "cell_type": "markdown",
   "metadata": {},
   "source": [
    "After chatting for a while, we have built a growing history, which we are attaching to each prompt and which contains the full conversation. Let's take a look!"
   ]
  },
  {
   "cell_type": "code",
   "execution_count": 12,
   "metadata": {
    "dotnet_interactive": {
     "language": "csharp"
    },
    "polyglot_notebook": {
     "kernelName": "csharp"
    },
    "vscode": {
     "languageId": "polyglot-notebook"
    }
   },
   "outputs": [
    {
     "name": "stdout",
     "output_type": "stream",
     "text": [
      "\n",
      "User: Hi, I'm looking for a sci-fi book suggestions\n",
      "AI: Hello! I'd be happy to help you with that. What kind of science fiction books are you interested in? Are you looking for something more along the lines of space opera, dystopian futures, time travel, or something else? Let me know so I can give you some tailored recommendations.\n",
      "\n",
      "User: I would like books about dystopian futures set in space.\n",
      "AI: Great choice! Here are some science fiction books about dystopian futures set in space that you might enjoy:\n",
      "\n",
      "1. \"The Expanse\" series by James S.A. Corey - This series follows a future where humanity has colonized the solar system, leading to political tensions and conflicts that threaten to erupt into all-out war.\n",
      "\n",
      "2. \"Red Rising\" by Pierce Brown - Set in a future where society is divided into color-coded castes, this series follows a young man's journey to overthrow the oppressive ruling class.\n",
      "\n",
      "3. \"The Stars My Destination\" by Alfred Bester - This classic novel follows the story of a man seeking revenge in a future where teleportation technology has transformed society.\n",
      "\n",
      "I hope you find these recommendations helpful! Let me know if you'd like more suggestions or if you have any specific preferences.\n",
      "\n",
      "User: that sounds interesting, can you recommend other similar books?\n",
      "AI: Sure! Here are some more science fiction books about dystopian futures set in space that you might enjoy:\n",
      "\n",
      "1. \"Altered Carbon\" by Richard K. Morgan - In a future where consciousness can be transferred between bodies, a former soldier is hired to solve a murder mystery that leads him into a world of corruption and intrigue.\n",
      "\n",
      "2. \"The Hunger Games\" by Suzanne Collins - Set in a dystopian future where children are forced to fight to the death in a televised competition, this series follows a young girl's struggle for survival and rebellion against the oppressive government.\n",
      "\n",
      "3. \"The Long Way to a Small, Angry Planet\" by Becky Chambers - This novel follows the crew of a spaceship as they travel through space, encountering different alien species and facing challenges that test their bonds and beliefs.\n",
      "\n",
      "I hope you find these additional recommendations enjoyable! Let me know if you'd like more suggestions or if you have any specific preferences.\n",
      "\n",
      "User: Which book from the ones you listed do you think most people find interesting?\n",
      "AI: It's difficult to say which book most people find interesting, as individual preferences can vary greatly. However, \"The Hunger Games\" by Suzanne Collins is a widely popular series that has captured the attention of many readers with its gripping storyline and themes of survival and rebellion. It has also been adapted into successful movies, further increasing its popularity.\n",
      "\n",
      "User: could you list some more books I could read about the topic(s) you mentioned?\n",
      "AI: I'm glad you're interested in exploring more books on the topic! Here are some additional science fiction books about dystopian futures set in space that you might find intriguing:\n",
      "\n",
      "1. \"Ender's Game\" by Orson Scott Card - This novel follows a young boy named Ender Wiggin who is recruited into a military training program to prepare for an alien invasion.\n",
      "\n",
      "2. \"Dune\" by Frank Herbert - Set in a distant future where noble houses vie for control of a desert planet called Arrakis, this epic novel explores themes of politics, religion, and ecology.\n",
      "\n",
      "3. \"Hyperion\" by Dan Simmons - In this novel, a group of pilgrims journey to the distant planet of Hyperion, each with their own story to tell and secrets to uncover.\n",
      "\n",
      "4. \"The Left Hand of Darkness\" by Ursula K. Le Guin - This novel follows a human envoy's mission to a planet where the inhabitants can change gender at will, exploring themes of gender and politics.\n",
      "\n",
      "5. \"Snow Crash\" by Neal Stephenson - Set in a future America where the government has collapsed, this novel follows a hacker and a courier as they uncover a conspiracy that threatens the world.\n",
      "\n",
      "I hope you find these additional recommendations enjoyable! Let me know if you'd like more suggestions or if you have any specific preferences.\n",
      "\r\n"
     ]
    }
   ],
   "source": [
    "Console.WriteLine(history);"
   ]
  }
 ],
 "metadata": {
  "kernelspec": {
   "display_name": ".NET (C#)",
   "language": "C#",
   "name": ".net-csharp"
  },
  "language_info": {
   "file_extension": ".cs",
   "mimetype": "text/x-csharp",
   "name": "C#",
   "pygments_lexer": "csharp",
   "version": "11.0"
  },
  "polyglot_notebook": {
   "kernelInfo": {
    "defaultKernelName": "csharp",
    "items": [
     {
      "aliases": [],
      "name": "csharp"
     }
    ]
   }
  }
 },
 "nbformat": 4,
 "nbformat_minor": 2
}
